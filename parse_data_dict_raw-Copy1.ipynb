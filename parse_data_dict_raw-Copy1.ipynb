{
 "cells": [
  {
   "cell_type": "markdown",
   "metadata": {},
   "source": [
    "# Parse raw data dictionary to json"
   ]
  },
  {
   "cell_type": "code",
   "execution_count": 2,
   "metadata": {},
   "outputs": [],
   "source": [
    "with open('retired_pension_dict_raw.csv', 'r') as f:\n",
    "    lines = f.read().split('\\n')"
   ]
  },
  {
   "cell_type": "code",
   "execution_count": 3,
   "metadata": {},
   "outputs": [],
   "source": [
    "start = 0\n",
    "interval = 3\n",
    "end = start + interval\n",
    "data_dict = {}\n",
    "while end < len(lines):\n",
    "    temp = lines[start:end]\n",
    "    data_dict[temp[0]] = {'Data Type': temp[2], 'Description': temp[1]}\n",
    "    start += interval\n",
    "    end += interval"
   ]
  },
  {
   "cell_type": "code",
   "execution_count": 4,
   "metadata": {},
   "outputs": [
    {
     "data": {
      "text/plain": [
       "{'REPORT_YEAR_MONTH': {'Data Type': 'Number',\n",
       "  'Description': 'Four digit year representing the twelve month period starting with January and ending with December. Indicates the calendar year in which payments were actually made to the pensioner. Calendar year and calendar month together represent the end of the reporting period.'},\n",
       " 'AS_OF_DATE': {'Data Type': 'Date & Time',\n",
       "  'Description': 'The last day of the quarter of data represented in this dataset.'},\n",
       " 'MEMBER_KEY': {'Data Type': 'Number',\n",
       "  'Description': '\"A value that uniquely identifies members receiving pension benefits. When benefits are being paid from more than one pension fund on behalf of any given member, all records for that member will contain the same value in this key.\"'},\n",
       " 'MEMBER_LAST_NAME': {'Data Type': 'Plain Text',\n",
       "  'Description': 'The last name of the member at the end of the reporting period.'},\n",
       " 'MEMBER_FIRST_NAME': {'Data Type': 'Plain Text',\n",
       "  'Description': 'The first name of the member at the end of the reporting period.'},\n",
       " 'MEMBER_MIDDLE_INITIAL': {'Data Type': 'Plain Text',\n",
       "  'Description': 'The middle initial of the member at the end of the reporting period.'},\n",
       " 'MEMBER_FULL_NAME': {'Data Type': 'Plain Text',\n",
       "  'Description': '\"Full name (Last, First Middle Initial) of the member at the end of the reporting period.\"'},\n",
       " 'MEMBER_BIRTH_YEAR': {'Data Type': 'Plain Text',\n",
       "  'Description': 'Member??s year of birth. The literal ??Not Reported?? is used when there is no birth year on record.'},\n",
       " 'MEMBER_RETIREMENT_CAUSE': {'Data Type': 'Plain Text',\n",
       "  'Description': '\"The type of retirement for the member (e.g. Service, Early, Disability).\"'},\n",
       " 'MEMBER_LAST_EMPLOYER': {'Data Type': 'Plain Text',\n",
       "  'Description': 'Last employer (location) where pension was earned for the listed pension fund.'},\n",
       " 'MEMBER_PENSION_FUND': {'Data Type': 'Plain Text',\n",
       "  'Description': 'Pension fund from which the benefits are drawn.'},\n",
       " 'MEMBER_RETIREMENT_DATE': {'Data Type': 'Plain Text',\n",
       "  'Description': 'The retirement year and month. Format is CCYY/MM.'},\n",
       " 'MEMBER_SALARY_FOR_CALCULATION': {'Data Type': 'Number',\n",
       "  'Description': 'Salary utilized for pension benefit calculations.'},\n",
       " 'MEMBER_FINAL_MONTHS_OF_SERVICE': {'Data Type': 'Number',\n",
       "  'Description': 'The total months of service for the member.'},\n",
       " 'TYPE_OF_BENEFIT': {'Data Type': 'Plain Text',\n",
       "  'Description': 'Indicates who is receiving the benefits - ??Member?? or ??Survivor??'},\n",
       " 'MTHLY_PENSION_ALLOWANCE': {'Data Type': 'Number',\n",
       "  'Description': 'The amount of the monthly benefit.'},\n",
       " 'MTHLY_COST_OF_LIVING_ALLOWANCE': {'Data Type': 'Number',\n",
       "  'Description': 'The amount of the monthly cost of living allowance.'},\n",
       " 'MTHLY_SUPPLEMENTAL_ALLOWANCE': {'Data Type': 'Number',\n",
       "  'Description': 'The amount of the monthly supplemental allowance.'},\n",
       " 'MTHLY_TOTAL_ALLOWANCES': {'Data Type': 'Number',\n",
       "  'Description': 'The total amount of the monthly benefit (sum of prior three fields).'},\n",
       " 'LAST_STANDARD_ALLOWANCE_YEARMO': {'Data Type': 'Plain Text',\n",
       "  'Description': 'Last year and month of benefits paid. Format is CCYY/MM.'},\n",
       " 'YTD_PENSION_PYMNTS': {'Data Type': 'Number',\n",
       "  'Description': 'The year-to-date pension benefits paid.'},\n",
       " 'YTD_COST_OF_LIVING_PYMNTS': {'Data Type': 'Number',\n",
       "  'Description': 'The year-to-date amount of the monthly cost of living allowance.'},\n",
       " 'YTD_SUPPLEMENTAL_PYMNTS': {'Data Type': 'Number',\n",
       "  'Description': 'The year-to-date amount of the monthly supplemental allowance.'},\n",
       " 'YTD_ONE_TIME_ADJUSTMENT_PYMNTS': {'Data Type': 'Number',\n",
       "  'Description': 'The year-to-date amount of the onetime adjustments.'},\n",
       " 'YTD_TOTAL_PAYMNTS': {'Data Type': 'Number',\n",
       "  'Description': 'The year-to-date total amount of benefits received.'},\n",
       " 'LAST_DISBURSEMENT_YEARMO': {'Data Type': 'Plain Text',\n",
       "  'Description': 'The last year and month of benefits paid. Format is CCYY/MM.'},\n",
       " 'RETIREMENT_CANCELLATION_DATE': {'Data Type': 'Date & Time',\n",
       "  'Description': 'The date retirement was cancelled. Format is MM/DD/CCYY.'}}"
      ]
     },
     "execution_count": 4,
     "metadata": {},
     "output_type": "execute_result"
    }
   ],
   "source": [
    "data_dict"
   ]
  },
  {
   "cell_type": "code",
   "execution_count": 5,
   "metadata": {},
   "outputs": [],
   "source": [
    "import json\n",
    "with open('retired_pension_data_dict.json', 'w') as f:\n",
    "    json.dump(data_dict, f)"
   ]
  },
  {
   "cell_type": "code",
   "execution_count": null,
   "metadata": {},
   "outputs": [],
   "source": []
  }
 ],
 "metadata": {
  "kernelspec": {
   "display_name": "Python 3",
   "language": "python",
   "name": "python3"
  },
  "language_info": {
   "codemirror_mode": {
    "name": "ipython",
    "version": 3
   },
   "file_extension": ".py",
   "mimetype": "text/x-python",
   "name": "python",
   "nbconvert_exporter": "python",
   "pygments_lexer": "ipython3",
   "version": "3.6.2"
  }
 },
 "nbformat": 4,
 "nbformat_minor": 2
}
