{
 "cells": [
  {
   "cell_type": "code",
   "execution_count": 1,
   "metadata": {},
   "outputs": [
    {
     "data": {
      "text/html": [
       "\n",
       "    <div class=\"bk-root\">\n",
       "        <a href=\"https://bokeh.pydata.org\" target=\"_blank\" class=\"bk-logo bk-logo-small bk-logo-notebook\"></a>\n",
       "        <span id=\"1001\">Loading BokehJS ...</span>\n",
       "    </div>"
      ]
     },
     "metadata": {},
     "output_type": "display_data"
    },
    {
     "data": {
      "application/javascript": [
       "\n",
       "(function(root) {\n",
       "  function now() {\n",
       "    return new Date();\n",
       "  }\n",
       "\n",
       "  var force = true;\n",
       "\n",
       "  if (typeof root._bokeh_onload_callbacks === \"undefined\" || force === true) {\n",
       "    root._bokeh_onload_callbacks = [];\n",
       "    root._bokeh_is_loading = undefined;\n",
       "  }\n",
       "\n",
       "  var JS_MIME_TYPE = 'application/javascript';\n",
       "  var HTML_MIME_TYPE = 'text/html';\n",
       "  var EXEC_MIME_TYPE = 'application/vnd.bokehjs_exec.v0+json';\n",
       "  var CLASS_NAME = 'output_bokeh rendered_html';\n",
       "\n",
       "  /**\n",
       "   * Render data to the DOM node\n",
       "   */\n",
       "  function render(props, node) {\n",
       "    var script = document.createElement(\"script\");\n",
       "    node.appendChild(script);\n",
       "  }\n",
       "\n",
       "  /**\n",
       "   * Handle when an output is cleared or removed\n",
       "   */\n",
       "  function handleClearOutput(event, handle) {\n",
       "    var cell = handle.cell;\n",
       "\n",
       "    var id = cell.output_area._bokeh_element_id;\n",
       "    var server_id = cell.output_area._bokeh_server_id;\n",
       "    // Clean up Bokeh references\n",
       "    if (id != null && id in Bokeh.index) {\n",
       "      Bokeh.index[id].model.document.clear();\n",
       "      delete Bokeh.index[id];\n",
       "    }\n",
       "\n",
       "    if (server_id !== undefined) {\n",
       "      // Clean up Bokeh references\n",
       "      var cmd = \"from bokeh.io.state import curstate; print(curstate().uuid_to_server['\" + server_id + \"'].get_sessions()[0].document.roots[0]._id)\";\n",
       "      cell.notebook.kernel.execute(cmd, {\n",
       "        iopub: {\n",
       "          output: function(msg) {\n",
       "            var id = msg.content.text.trim();\n",
       "            if (id in Bokeh.index) {\n",
       "              Bokeh.index[id].model.document.clear();\n",
       "              delete Bokeh.index[id];\n",
       "            }\n",
       "          }\n",
       "        }\n",
       "      });\n",
       "      // Destroy server and session\n",
       "      var cmd = \"import bokeh.io.notebook as ion; ion.destroy_server('\" + server_id + \"')\";\n",
       "      cell.notebook.kernel.execute(cmd);\n",
       "    }\n",
       "  }\n",
       "\n",
       "  /**\n",
       "   * Handle when a new output is added\n",
       "   */\n",
       "  function handleAddOutput(event, handle) {\n",
       "    var output_area = handle.output_area;\n",
       "    var output = handle.output;\n",
       "\n",
       "    // limit handleAddOutput to display_data with EXEC_MIME_TYPE content only\n",
       "    if ((output.output_type != \"display_data\") || (!output.data.hasOwnProperty(EXEC_MIME_TYPE))) {\n",
       "      return\n",
       "    }\n",
       "\n",
       "    var toinsert = output_area.element.find(\".\" + CLASS_NAME.split(' ')[0]);\n",
       "\n",
       "    if (output.metadata[EXEC_MIME_TYPE][\"id\"] !== undefined) {\n",
       "      toinsert[toinsert.length - 1].firstChild.textContent = output.data[JS_MIME_TYPE];\n",
       "      // store reference to embed id on output_area\n",
       "      output_area._bokeh_element_id = output.metadata[EXEC_MIME_TYPE][\"id\"];\n",
       "    }\n",
       "    if (output.metadata[EXEC_MIME_TYPE][\"server_id\"] !== undefined) {\n",
       "      var bk_div = document.createElement(\"div\");\n",
       "      bk_div.innerHTML = output.data[HTML_MIME_TYPE];\n",
       "      var script_attrs = bk_div.children[0].attributes;\n",
       "      for (var i = 0; i < script_attrs.length; i++) {\n",
       "        toinsert[toinsert.length - 1].firstChild.setAttribute(script_attrs[i].name, script_attrs[i].value);\n",
       "      }\n",
       "      // store reference to server id on output_area\n",
       "      output_area._bokeh_server_id = output.metadata[EXEC_MIME_TYPE][\"server_id\"];\n",
       "    }\n",
       "  }\n",
       "\n",
       "  function register_renderer(events, OutputArea) {\n",
       "\n",
       "    function append_mime(data, metadata, element) {\n",
       "      // create a DOM node to render to\n",
       "      var toinsert = this.create_output_subarea(\n",
       "        metadata,\n",
       "        CLASS_NAME,\n",
       "        EXEC_MIME_TYPE\n",
       "      );\n",
       "      this.keyboard_manager.register_events(toinsert);\n",
       "      // Render to node\n",
       "      var props = {data: data, metadata: metadata[EXEC_MIME_TYPE]};\n",
       "      render(props, toinsert[toinsert.length - 1]);\n",
       "      element.append(toinsert);\n",
       "      return toinsert\n",
       "    }\n",
       "\n",
       "    /* Handle when an output is cleared or removed */\n",
       "    events.on('clear_output.CodeCell', handleClearOutput);\n",
       "    events.on('delete.Cell', handleClearOutput);\n",
       "\n",
       "    /* Handle when a new output is added */\n",
       "    events.on('output_added.OutputArea', handleAddOutput);\n",
       "\n",
       "    /**\n",
       "     * Register the mime type and append_mime function with output_area\n",
       "     */\n",
       "    OutputArea.prototype.register_mime_type(EXEC_MIME_TYPE, append_mime, {\n",
       "      /* Is output safe? */\n",
       "      safe: true,\n",
       "      /* Index of renderer in `output_area.display_order` */\n",
       "      index: 0\n",
       "    });\n",
       "  }\n",
       "\n",
       "  // register the mime type if in Jupyter Notebook environment and previously unregistered\n",
       "  if (root.Jupyter !== undefined) {\n",
       "    var events = require('base/js/events');\n",
       "    var OutputArea = require('notebook/js/outputarea').OutputArea;\n",
       "\n",
       "    if (OutputArea.prototype.mime_types().indexOf(EXEC_MIME_TYPE) == -1) {\n",
       "      register_renderer(events, OutputArea);\n",
       "    }\n",
       "  }\n",
       "\n",
       "  \n",
       "  if (typeof (root._bokeh_timeout) === \"undefined\" || force === true) {\n",
       "    root._bokeh_timeout = Date.now() + 5000;\n",
       "    root._bokeh_failed_load = false;\n",
       "  }\n",
       "\n",
       "  var NB_LOAD_WARNING = {'data': {'text/html':\n",
       "     \"<div style='background-color: #fdd'>\\n\"+\n",
       "     \"<p>\\n\"+\n",
       "     \"BokehJS does not appear to have successfully loaded. If loading BokehJS from CDN, this \\n\"+\n",
       "     \"may be due to a slow or bad network connection. Possible fixes:\\n\"+\n",
       "     \"</p>\\n\"+\n",
       "     \"<ul>\\n\"+\n",
       "     \"<li>re-rerun `output_notebook()` to attempt to load from CDN again, or</li>\\n\"+\n",
       "     \"<li>use INLINE resources instead, as so:</li>\\n\"+\n",
       "     \"</ul>\\n\"+\n",
       "     \"<code>\\n\"+\n",
       "     \"from bokeh.resources import INLINE\\n\"+\n",
       "     \"output_notebook(resources=INLINE)\\n\"+\n",
       "     \"</code>\\n\"+\n",
       "     \"</div>\"}};\n",
       "\n",
       "  function display_loaded() {\n",
       "    var el = document.getElementById(\"1001\");\n",
       "    if (el != null) {\n",
       "      el.textContent = \"BokehJS is loading...\";\n",
       "    }\n",
       "    if (root.Bokeh !== undefined) {\n",
       "      if (el != null) {\n",
       "        el.textContent = \"BokehJS \" + root.Bokeh.version + \" successfully loaded.\";\n",
       "      }\n",
       "    } else if (Date.now() < root._bokeh_timeout) {\n",
       "      setTimeout(display_loaded, 100)\n",
       "    }\n",
       "  }\n",
       "\n",
       "\n",
       "  function run_callbacks() {\n",
       "    try {\n",
       "      root._bokeh_onload_callbacks.forEach(function(callback) {\n",
       "        if (callback != null)\n",
       "          callback();\n",
       "      });\n",
       "    } finally {\n",
       "      delete root._bokeh_onload_callbacks\n",
       "    }\n",
       "    console.debug(\"Bokeh: all callbacks have finished\");\n",
       "  }\n",
       "\n",
       "  function load_libs(css_urls, js_urls, callback) {\n",
       "    if (css_urls == null) css_urls = [];\n",
       "    if (js_urls == null) js_urls = [];\n",
       "\n",
       "    root._bokeh_onload_callbacks.push(callback);\n",
       "    if (root._bokeh_is_loading > 0) {\n",
       "      console.debug(\"Bokeh: BokehJS is being loaded, scheduling callback at\", now());\n",
       "      return null;\n",
       "    }\n",
       "    if (js_urls == null || js_urls.length === 0) {\n",
       "      run_callbacks();\n",
       "      return null;\n",
       "    }\n",
       "    console.debug(\"Bokeh: BokehJS not loaded, scheduling load and callback at\", now());\n",
       "    root._bokeh_is_loading = css_urls.length + js_urls.length;\n",
       "\n",
       "    function on_load() {\n",
       "      root._bokeh_is_loading--;\n",
       "      if (root._bokeh_is_loading === 0) {\n",
       "        console.debug(\"Bokeh: all BokehJS libraries/stylesheets loaded\");\n",
       "        run_callbacks()\n",
       "      }\n",
       "    }\n",
       "\n",
       "    function on_error() {\n",
       "      console.error(\"failed to load \" + url);\n",
       "    }\n",
       "\n",
       "    for (var i = 0; i < css_urls.length; i++) {\n",
       "      var url = css_urls[i];\n",
       "      const element = document.createElement(\"link\");\n",
       "      element.onload = on_load;\n",
       "      element.onerror = on_error;\n",
       "      element.rel = \"stylesheet\";\n",
       "      element.type = \"text/css\";\n",
       "      element.href = url;\n",
       "      console.debug(\"Bokeh: injecting link tag for BokehJS stylesheet: \", url);\n",
       "      document.body.appendChild(element);\n",
       "    }\n",
       "\n",
       "    for (var i = 0; i < js_urls.length; i++) {\n",
       "      var url = js_urls[i];\n",
       "      var element = document.createElement('script');\n",
       "      element.onload = on_load;\n",
       "      element.onerror = on_error;\n",
       "      element.async = false;\n",
       "      element.src = url;\n",
       "      console.debug(\"Bokeh: injecting script tag for BokehJS library: \", url);\n",
       "      document.head.appendChild(element);\n",
       "    }\n",
       "  };var element = document.getElementById(\"1001\");\n",
       "  if (element == null) {\n",
       "    console.error(\"Bokeh: ERROR: autoload.js configured with elementid '1001' but no matching script tag was found. \")\n",
       "    return false;\n",
       "  }\n",
       "\n",
       "  function inject_raw_css(css) {\n",
       "    const element = document.createElement(\"style\");\n",
       "    element.appendChild(document.createTextNode(css));\n",
       "    document.body.appendChild(element);\n",
       "  }\n",
       "\n",
       "  var js_urls = [\"https://cdn.pydata.org/bokeh/release/bokeh-1.2.0.min.js\", \"https://cdn.pydata.org/bokeh/release/bokeh-widgets-1.2.0.min.js\", \"https://cdn.pydata.org/bokeh/release/bokeh-tables-1.2.0.min.js\", \"https://cdn.pydata.org/bokeh/release/bokeh-gl-1.2.0.min.js\"];\n",
       "  var css_urls = [\"https://cdn.pydata.org/bokeh/release/bokeh-1.2.0.min.css\", \"https://cdn.pydata.org/bokeh/release/bokeh-widgets-1.2.0.min.css\", \"https://cdn.pydata.org/bokeh/release/bokeh-tables-1.2.0.min.css\"];\n",
       "\n",
       "  var inline_js = [\n",
       "    function(Bokeh) {\n",
       "      Bokeh.set_log_level(\"info\");\n",
       "    },\n",
       "    \n",
       "    function(Bokeh) {\n",
       "      \n",
       "    },\n",
       "    function(Bokeh) {} // ensure no trailing comma for IE\n",
       "  ];\n",
       "\n",
       "  function run_inline_js() {\n",
       "    \n",
       "    if ((root.Bokeh !== undefined) || (force === true)) {\n",
       "      for (var i = 0; i < inline_js.length; i++) {\n",
       "        inline_js[i].call(root, root.Bokeh);\n",
       "      }if (force === true) {\n",
       "        display_loaded();\n",
       "      }} else if (Date.now() < root._bokeh_timeout) {\n",
       "      setTimeout(run_inline_js, 100);\n",
       "    } else if (!root._bokeh_failed_load) {\n",
       "      console.log(\"Bokeh: BokehJS failed to load within specified timeout.\");\n",
       "      root._bokeh_failed_load = true;\n",
       "    } else if (force !== true) {\n",
       "      var cell = $(document.getElementById(\"1001\")).parents('.cell').data().cell;\n",
       "      cell.output_area.append_execute_result(NB_LOAD_WARNING)\n",
       "    }\n",
       "\n",
       "  }\n",
       "\n",
       "  if (root._bokeh_is_loading === 0) {\n",
       "    console.debug(\"Bokeh: BokehJS loaded, going straight to plotting\");\n",
       "    run_inline_js();\n",
       "  } else {\n",
       "    load_libs(css_urls, js_urls, function() {\n",
       "      console.debug(\"Bokeh: BokehJS plotting callback run at\", now());\n",
       "      run_inline_js();\n",
       "    });\n",
       "  }\n",
       "}(window));"
      ],
      "application/vnd.bokehjs_load.v0+json": "\n(function(root) {\n  function now() {\n    return new Date();\n  }\n\n  var force = true;\n\n  if (typeof root._bokeh_onload_callbacks === \"undefined\" || force === true) {\n    root._bokeh_onload_callbacks = [];\n    root._bokeh_is_loading = undefined;\n  }\n\n  \n\n  \n  if (typeof (root._bokeh_timeout) === \"undefined\" || force === true) {\n    root._bokeh_timeout = Date.now() + 5000;\n    root._bokeh_failed_load = false;\n  }\n\n  var NB_LOAD_WARNING = {'data': {'text/html':\n     \"<div style='background-color: #fdd'>\\n\"+\n     \"<p>\\n\"+\n     \"BokehJS does not appear to have successfully loaded. If loading BokehJS from CDN, this \\n\"+\n     \"may be due to a slow or bad network connection. Possible fixes:\\n\"+\n     \"</p>\\n\"+\n     \"<ul>\\n\"+\n     \"<li>re-rerun `output_notebook()` to attempt to load from CDN again, or</li>\\n\"+\n     \"<li>use INLINE resources instead, as so:</li>\\n\"+\n     \"</ul>\\n\"+\n     \"<code>\\n\"+\n     \"from bokeh.resources import INLINE\\n\"+\n     \"output_notebook(resources=INLINE)\\n\"+\n     \"</code>\\n\"+\n     \"</div>\"}};\n\n  function display_loaded() {\n    var el = document.getElementById(\"1001\");\n    if (el != null) {\n      el.textContent = \"BokehJS is loading...\";\n    }\n    if (root.Bokeh !== undefined) {\n      if (el != null) {\n        el.textContent = \"BokehJS \" + root.Bokeh.version + \" successfully loaded.\";\n      }\n    } else if (Date.now() < root._bokeh_timeout) {\n      setTimeout(display_loaded, 100)\n    }\n  }\n\n\n  function run_callbacks() {\n    try {\n      root._bokeh_onload_callbacks.forEach(function(callback) {\n        if (callback != null)\n          callback();\n      });\n    } finally {\n      delete root._bokeh_onload_callbacks\n    }\n    console.debug(\"Bokeh: all callbacks have finished\");\n  }\n\n  function load_libs(css_urls, js_urls, callback) {\n    if (css_urls == null) css_urls = [];\n    if (js_urls == null) js_urls = [];\n\n    root._bokeh_onload_callbacks.push(callback);\n    if (root._bokeh_is_loading > 0) {\n      console.debug(\"Bokeh: BokehJS is being loaded, scheduling callback at\", now());\n      return null;\n    }\n    if (js_urls == null || js_urls.length === 0) {\n      run_callbacks();\n      return null;\n    }\n    console.debug(\"Bokeh: BokehJS not loaded, scheduling load and callback at\", now());\n    root._bokeh_is_loading = css_urls.length + js_urls.length;\n\n    function on_load() {\n      root._bokeh_is_loading--;\n      if (root._bokeh_is_loading === 0) {\n        console.debug(\"Bokeh: all BokehJS libraries/stylesheets loaded\");\n        run_callbacks()\n      }\n    }\n\n    function on_error() {\n      console.error(\"failed to load \" + url);\n    }\n\n    for (var i = 0; i < css_urls.length; i++) {\n      var url = css_urls[i];\n      const element = document.createElement(\"link\");\n      element.onload = on_load;\n      element.onerror = on_error;\n      element.rel = \"stylesheet\";\n      element.type = \"text/css\";\n      element.href = url;\n      console.debug(\"Bokeh: injecting link tag for BokehJS stylesheet: \", url);\n      document.body.appendChild(element);\n    }\n\n    for (var i = 0; i < js_urls.length; i++) {\n      var url = js_urls[i];\n      var element = document.createElement('script');\n      element.onload = on_load;\n      element.onerror = on_error;\n      element.async = false;\n      element.src = url;\n      console.debug(\"Bokeh: injecting script tag for BokehJS library: \", url);\n      document.head.appendChild(element);\n    }\n  };var element = document.getElementById(\"1001\");\n  if (element == null) {\n    console.error(\"Bokeh: ERROR: autoload.js configured with elementid '1001' but no matching script tag was found. \")\n    return false;\n  }\n\n  function inject_raw_css(css) {\n    const element = document.createElement(\"style\");\n    element.appendChild(document.createTextNode(css));\n    document.body.appendChild(element);\n  }\n\n  var js_urls = [\"https://cdn.pydata.org/bokeh/release/bokeh-1.2.0.min.js\", \"https://cdn.pydata.org/bokeh/release/bokeh-widgets-1.2.0.min.js\", \"https://cdn.pydata.org/bokeh/release/bokeh-tables-1.2.0.min.js\", \"https://cdn.pydata.org/bokeh/release/bokeh-gl-1.2.0.min.js\"];\n  var css_urls = [\"https://cdn.pydata.org/bokeh/release/bokeh-1.2.0.min.css\", \"https://cdn.pydata.org/bokeh/release/bokeh-widgets-1.2.0.min.css\", \"https://cdn.pydata.org/bokeh/release/bokeh-tables-1.2.0.min.css\"];\n\n  var inline_js = [\n    function(Bokeh) {\n      Bokeh.set_log_level(\"info\");\n    },\n    \n    function(Bokeh) {\n      \n    },\n    function(Bokeh) {} // ensure no trailing comma for IE\n  ];\n\n  function run_inline_js() {\n    \n    if ((root.Bokeh !== undefined) || (force === true)) {\n      for (var i = 0; i < inline_js.length; i++) {\n        inline_js[i].call(root, root.Bokeh);\n      }if (force === true) {\n        display_loaded();\n      }} else if (Date.now() < root._bokeh_timeout) {\n      setTimeout(run_inline_js, 100);\n    } else if (!root._bokeh_failed_load) {\n      console.log(\"Bokeh: BokehJS failed to load within specified timeout.\");\n      root._bokeh_failed_load = true;\n    } else if (force !== true) {\n      var cell = $(document.getElementById(\"1001\")).parents('.cell').data().cell;\n      cell.output_area.append_execute_result(NB_LOAD_WARNING)\n    }\n\n  }\n\n  if (root._bokeh_is_loading === 0) {\n    console.debug(\"Bokeh: BokehJS loaded, going straight to plotting\");\n    run_inline_js();\n  } else {\n    load_libs(css_urls, js_urls, function() {\n      console.debug(\"Bokeh: BokehJS plotting callback run at\", now());\n      run_inline_js();\n    });\n  }\n}(window));"
     },
     "metadata": {},
     "output_type": "display_data"
    }
   ],
   "source": [
    "import pandas as pd\n",
    "from bokeh.models import NumeralTickFormatter\n",
    "#import janitor\n",
    "# import numpy as np\n",
    "# from plotly import __version__\n",
    "# from plotly.offline import download_plotlyjs, init_notebook_mode, plot, iplot\n",
    "# import plotly.graph_objs as go\n",
    "import pprint\n",
    "# init_notebook_mode(connected=True)\n",
    "%matplotlib inline\n",
    "pd.set_option('display.max_columns', 999)\n",
    "pd.set_option('plotting.backend', 'pandas_bokeh') # new in pandas 0.25 - able to now set plotting backend\n",
    "pd.plotting.output_notebook()"
   ]
  },
  {
   "cell_type": "code",
   "execution_count": 2,
   "metadata": {},
   "outputs": [
    {
     "data": {
      "text/plain": [
       "'pandas_bokeh'"
      ]
     },
     "execution_count": 2,
     "metadata": {},
     "output_type": "execute_result"
    }
   ],
   "source": [
    "pd.get_option('backend')"
   ]
  },
  {
   "cell_type": "code",
   "execution_count": 3,
   "metadata": {},
   "outputs": [
    {
     "data": {
      "text/plain": [
       "'0.25.0'"
      ]
     },
     "execution_count": 3,
     "metadata": {},
     "output_type": "execute_result"
    }
   ],
   "source": [
    "pd.__version__"
   ]
  },
  {
   "cell_type": "code",
   "execution_count": 16,
   "metadata": {},
   "outputs": [],
   "source": [
    "test = pd.DataFrame(pd.Series({'a': 1, 'b': 2}))"
   ]
  },
  {
   "cell_type": "code",
   "execution_count": 4,
   "metadata": {},
   "outputs": [],
   "source": [
    "df = pd.read_hdf('processed_data/YourMoney_Agency_Payroll.hdf', 'njpayroll') # loading cleaned csv from hdf"
   ]
  },
  {
   "cell_type": "code",
   "execution_count": 5,
   "metadata": {},
   "outputs": [],
   "source": [
    "df_master = df[df['record_type']=='master']\n",
    "df_detail = df[df['record_type']=='detail']\n",
    "#df_master.to_pickle('raw_data/df_master.pkl')\n",
    "#df_detail.to_pickle('raw_data/df_detail.pkl')"
   ]
  },
  {
   "cell_type": "code",
   "execution_count": 6,
   "metadata": {},
   "outputs": [
    {
     "name": "stdout",
     "output_type": "stream",
     "text": [
      "['calendar_year',\n",
      " 'calendar_quarter',\n",
      " 'as_of_date',\n",
      " 'payroll_id',\n",
      " 'last_name',\n",
      " 'first_name',\n",
      " 'middle_initial',\n",
      " 'full_name',\n",
      " 'salary_hourly_rate',\n",
      " 'master_department_agency_desc',\n",
      " 'master_section_desc',\n",
      " 'master_title_desc',\n",
      " 'employee_relations_group',\n",
      " 'compensation_method',\n",
      " 'master_ytd_regular_pay',\n",
      " 'master_ytd_overtime_payments',\n",
      " 'master_ytd_all_other_payments',\n",
      " 'master_ytd_earnings',\n",
      " 'paid_department_agency_desc',\n",
      " 'paid_section_desc',\n",
      " 'regular_pay',\n",
      " 'supplemental_pay',\n",
      " 'one_time_payments',\n",
      " 'legislator_or_back_pay',\n",
      " 'overtime_payments',\n",
      " 'clothing_uniform_payments',\n",
      " 'retroactive_pay',\n",
      " 'lump_sum_pay',\n",
      " 'cash_in_lieu_maintenance',\n",
      " 'ytd_earnings',\n",
      " 'record_type']\n"
     ]
    }
   ],
   "source": [
    "pprint.pprint(list(df_master.columns))"
   ]
  },
  {
   "cell_type": "code",
   "execution_count": 22,
   "metadata": {},
   "outputs": [
    {
     "data": {
      "text/html": [
       "\n",
       "\n",
       "\n",
       "\n",
       "\n",
       "\n",
       "  <div class=\"bk-root\" id=\"eee492a8-1edb-4cbf-99be-40aaaba5c4d8\" data-root-id=\"1852\"></div>\n"
      ]
     },
     "metadata": {},
     "output_type": "display_data"
    },
    {
     "data": {
      "application/javascript": [
       "(function(root) {\n",
       "  function embed_document(root) {\n",
       "    \n",
       "  var docs_json = {\"72999e41-85de-4f48-9a45-a44993702f57\":{\"roots\":{\"references\":[{\"attributes\":{\"below\":[{\"id\":\"1863\",\"type\":\"LinearAxis\"}],\"center\":[{\"id\":\"1867\",\"type\":\"Grid\"},{\"id\":\"1872\",\"type\":\"Grid\"},{\"id\":\"1899\",\"type\":\"Legend\"}],\"left\":[{\"id\":\"1868\",\"type\":\"LinearAxis\"}],\"output_backend\":\"webgl\",\"plot_height\":400,\"renderers\":[{\"id\":\"1892\",\"type\":\"GlyphRenderer\"}],\"title\":{\"id\":\"1853\",\"type\":\"Title\"},\"toolbar\":{\"id\":\"1879\",\"type\":\"Toolbar\"},\"x_range\":{\"id\":\"1855\",\"type\":\"DataRange1d\"},\"x_scale\":{\"id\":\"1859\",\"type\":\"LinearScale\"},\"y_range\":{\"id\":\"1857\",\"type\":\"DataRange1d\"},\"y_scale\":{\"id\":\"1861\",\"type\":\"LinearScale\"}},\"id\":\"1852\",\"subtype\":\"Figure\",\"type\":\"Plot\"},{\"attributes\":{\"bottom_units\":\"screen\",\"fill_alpha\":{\"value\":0.5},\"fill_color\":{\"value\":\"lightgrey\"},\"left_units\":\"screen\",\"level\":\"overlay\",\"line_alpha\":{\"value\":1.0},\"line_color\":{\"value\":\"black\"},\"line_dash\":[4,4],\"line_width\":{\"value\":2},\"render_mode\":\"css\",\"right_units\":\"screen\",\"top_units\":\"screen\"},\"id\":\"1898\",\"type\":\"BoxAnnotation\"},{\"attributes\":{\"label\":{\"value\":\" calendar_year\"},\"renderers\":[{\"id\":\"1892\",\"type\":\"GlyphRenderer\"}]},\"id\":\"1900\",\"type\":\"LegendItem\"},{\"attributes\":{\"fill_alpha\":{\"value\":0.1},\"fill_color\":{\"value\":\"#1f77b4\"},\"line_alpha\":{\"value\":0.1},\"line_color\":{\"value\":\"#1f77b4\"},\"line_width\":{\"value\":2},\"top\":{\"field\":\"calendar_year\"},\"width\":{\"value\":0.7},\"x\":{\"field\":\"__x__values\",\"transform\":{\"id\":\"1888\",\"type\":\"Dodge\"}}},\"id\":\"1891\",\"type\":\"VBar\"},{\"attributes\":{},\"id\":\"1939\",\"type\":\"Selection\"},{\"attributes\":{\"axis_label\":\"Counts\",\"formatter\":{\"id\":\"1895\",\"type\":\"BasicTickFormatter\"},\"ticker\":{\"id\":\"1869\",\"type\":\"BasicTicker\"}},\"id\":\"1868\",\"type\":\"LinearAxis\"},{\"attributes\":{\"ticker\":{\"id\":\"1864\",\"type\":\"BasicTicker\"}},\"id\":\"1867\",\"type\":\"Grid\"},{\"attributes\":{\"text\":\"\"},\"id\":\"1853\",\"type\":\"Title\"},{\"attributes\":{\"fill_color\":{\"value\":\"#1f77b4\"},\"line_color\":{\"value\":\"#1f77b4\"},\"line_width\":{\"value\":2},\"top\":{\"field\":\"calendar_year\"},\"width\":{\"value\":0.7},\"x\":{\"field\":\"__x__values\",\"transform\":{\"id\":\"1888\",\"type\":\"Dodge\"}}},\"id\":\"1890\",\"type\":\"VBar\"},{\"attributes\":{},\"id\":\"1864\",\"type\":\"BasicTicker\"},{\"attributes\":{},\"id\":\"1861\",\"type\":\"LinearScale\"},{\"attributes\":{\"ticks\":[0,1,2,3,4,5,6,7,8,9]},\"id\":\"1903\",\"type\":\"FixedTicker\"},{\"attributes\":{\"data_source\":{\"id\":\"1851\",\"type\":\"ColumnDataSource\"},\"glyph\":{\"id\":\"1890\",\"type\":\"VBar\"},\"hover_glyph\":null,\"muted_glyph\":null,\"nonselection_glyph\":{\"id\":\"1891\",\"type\":\"VBar\"},\"selection_glyph\":null,\"view\":{\"id\":\"1893\",\"type\":\"CDSView\"}},\"id\":\"1892\",\"type\":\"GlyphRenderer\"},{\"attributes\":{\"callback\":null,\"data\":{\"__x__values\":[0,1,2,3,4,5,6,7,8,9],\"__x__values_original\":[2011,2010,2012,2013,2014,2015,2017,2016,2018,2019],\"calendar_year\":[90216,89687,88062,86657,83615,81518,80251,80245,79908,74128]},\"selected\":{\"id\":\"1939\",\"type\":\"Selection\"},\"selection_policy\":{\"id\":\"1940\",\"type\":\"UnionRenderers\"}},\"id\":\"1851\",\"type\":\"ColumnDataSource\"},{\"attributes\":{\"axis_label\":\"Calendar Year\",\"formatter\":{\"id\":\"1886\",\"type\":\"FuncTickFormatter\"},\"ticker\":{\"id\":\"1903\",\"type\":\"FixedTicker\"}},\"id\":\"1863\",\"type\":\"LinearAxis\"},{\"attributes\":{\"dimension\":1,\"ticker\":{\"id\":\"1869\",\"type\":\"BasicTicker\"}},\"id\":\"1872\",\"type\":\"Grid\"},{\"attributes\":{\"source\":{\"id\":\"1851\",\"type\":\"ColumnDataSource\"}},\"id\":\"1893\",\"type\":\"CDSView\"},{\"attributes\":{\"click_policy\":\"hide\",\"items\":[{\"id\":\"1900\",\"type\":\"LegendItem\"}]},\"id\":\"1899\",\"type\":\"Legend\"},{\"attributes\":{\"code\":\"\\n                                    var labels = {0: '2011', 1: '2010', 2: '2012', 3: '2013', 4: '2014', 5: '2015', 6: '2017', 7: '2016', 8: '2018', 9: '2019'};\\n                                    return labels[tick];\\n                                    \"},\"id\":\"1886\",\"type\":\"FuncTickFormatter\"},{\"attributes\":{\"callback\":null,\"mode\":\"vline\",\"renderers\":[{\"id\":\"1892\",\"type\":\"GlyphRenderer\"}],\"tooltips\":[[\"Calendar Year\",\"@__x__values_original\"],[\"calendar_year\",\"@{calendar_year}\"]]},\"id\":\"1901\",\"type\":\"HoverTool\"},{\"attributes\":{},\"id\":\"1895\",\"type\":\"BasicTickFormatter\"},{\"attributes\":{},\"id\":\"1874\",\"type\":\"WheelZoomTool\"},{\"attributes\":{},\"id\":\"1940\",\"type\":\"UnionRenderers\"},{\"attributes\":{\"overlay\":{\"id\":\"1898\",\"type\":\"BoxAnnotation\"}},\"id\":\"1875\",\"type\":\"BoxZoomTool\"},{\"attributes\":{},\"id\":\"1873\",\"type\":\"PanTool\"},{\"attributes\":{\"callback\":null},\"id\":\"1857\",\"type\":\"DataRange1d\"},{\"attributes\":{\"callback\":null},\"id\":\"1855\",\"type\":\"DataRange1d\"},{\"attributes\":{},\"id\":\"1876\",\"type\":\"SaveTool\"},{\"attributes\":{},\"id\":\"1859\",\"type\":\"LinearScale\"},{\"attributes\":{},\"id\":\"1877\",\"type\":\"ResetTool\"},{\"attributes\":{\"active_drag\":\"auto\",\"active_inspect\":\"auto\",\"active_multi\":null,\"active_scroll\":{\"id\":\"1874\",\"type\":\"WheelZoomTool\"},\"active_tap\":\"auto\",\"tools\":[{\"id\":\"1873\",\"type\":\"PanTool\"},{\"id\":\"1874\",\"type\":\"WheelZoomTool\"},{\"id\":\"1875\",\"type\":\"BoxZoomTool\"},{\"id\":\"1876\",\"type\":\"SaveTool\"},{\"id\":\"1877\",\"type\":\"ResetTool\"},{\"id\":\"1878\",\"type\":\"HelpTool\"},{\"id\":\"1901\",\"type\":\"HoverTool\"}]},\"id\":\"1879\",\"type\":\"Toolbar\"},{\"attributes\":{},\"id\":\"1869\",\"type\":\"BasicTicker\"},{\"attributes\":{},\"id\":\"1878\",\"type\":\"HelpTool\"},{\"attributes\":{\"range\":{\"id\":\"1855\",\"type\":\"DataRange1d\"}},\"id\":\"1888\",\"type\":\"Dodge\"}],\"root_ids\":[\"1852\"]},\"title\":\"Bokeh Application\",\"version\":\"1.2.0\"}};\n",
       "  var render_items = [{\"docid\":\"72999e41-85de-4f48-9a45-a44993702f57\",\"roots\":{\"1852\":\"eee492a8-1edb-4cbf-99be-40aaaba5c4d8\"}}];\n",
       "  root.Bokeh.embed.embed_items_notebook(docs_json, render_items);\n",
       "\n",
       "  }\n",
       "  if (root.Bokeh !== undefined) {\n",
       "    embed_document(root);\n",
       "  } else {\n",
       "    var attempts = 0;\n",
       "    var timer = setInterval(function(root) {\n",
       "      if (root.Bokeh !== undefined) {\n",
       "        embed_document(root);\n",
       "        clearInterval(timer);\n",
       "      }\n",
       "      attempts++;\n",
       "      if (attempts > 100) {\n",
       "        console.log(\"Bokeh: ERROR: Unable to run BokehJS code because BokehJS library is missing\");\n",
       "        clearInterval(timer);\n",
       "      }\n",
       "    }, 10, root)\n",
       "  }\n",
       "})(window);"
      ],
      "application/vnd.bokehjs_exec.v0+json": ""
     },
     "metadata": {
      "application/vnd.bokehjs_exec.v0+json": {
       "id": "1852"
      }
     },
     "output_type": "display_data"
    }
   ],
   "source": [
    "df_by_year = df_master['calendar_year'].value_counts()\n",
    "pd.DataFrame(df_by_year.plot(kind='bar', xlabel='Calendar Year', ylabel='Counts');"
   ]
  },
  {
   "cell_type": "code",
   "execution_count": 29,
   "metadata": {},
   "outputs": [
    {
     "data": {
      "text/plain": [
       "[2010, 2011, 2012, 2013, 2014, 2015, 2016, 2017, 2018, 2019]"
      ]
     },
     "execution_count": 29,
     "metadata": {},
     "output_type": "execute_result"
    }
   ],
   "source": [
    "sorted(df_master['calendar_year'].unique())"
   ]
  },
  {
   "cell_type": "code",
   "execution_count": 31,
   "metadata": {},
   "outputs": [
    {
     "data": {
      "text/html": [
       "\n",
       "\n",
       "\n",
       "\n",
       "\n",
       "\n",
       "  <div class=\"bk-root\" id=\"fa04534e-177b-4723-a80c-4890f0416f6f\" data-root-id=\"2015\"></div>\n"
      ]
     },
     "metadata": {},
     "output_type": "display_data"
    },
    {
     "data": {
      "application/javascript": [
       "(function(root) {\n",
       "  function embed_document(root) {\n",
       "    \n",
       "  var docs_json = {\"4f12bfbb-abf9-46a2-a601-c1aee12a961d\":{\"roots\":{\"references\":[{\"attributes\":{\"callback\":null,\"end\":2019,\"start\":2010,\"title\":\"Year\",\"value\":2010},\"id\":\"2015\",\"type\":\"Slider\"}],\"root_ids\":[\"2015\"]},\"title\":\"Bokeh Application\",\"version\":\"1.2.0\"}};\n",
       "  var render_items = [{\"docid\":\"4f12bfbb-abf9-46a2-a601-c1aee12a961d\",\"roots\":{\"2015\":\"fa04534e-177b-4723-a80c-4890f0416f6f\"}}];\n",
       "  root.Bokeh.embed.embed_items_notebook(docs_json, render_items);\n",
       "\n",
       "  }\n",
       "  if (root.Bokeh !== undefined) {\n",
       "    embed_document(root);\n",
       "  } else {\n",
       "    var attempts = 0;\n",
       "    var timer = setInterval(function(root) {\n",
       "      if (root.Bokeh !== undefined) {\n",
       "        embed_document(root);\n",
       "        clearInterval(timer);\n",
       "      }\n",
       "      attempts++;\n",
       "      if (attempts > 100) {\n",
       "        console.log(\"Bokeh: ERROR: Unable to run BokehJS code because BokehJS library is missing\");\n",
       "        clearInterval(timer);\n",
       "      }\n",
       "    }, 10, root)\n",
       "  }\n",
       "})(window);"
      ],
      "application/vnd.bokehjs_exec.v0+json": ""
     },
     "metadata": {
      "application/vnd.bokehjs_exec.v0+json": {
       "id": "2015"
      }
     },
     "output_type": "display_data"
    }
   ],
   "source": [
    "from bokeh.io import output_file, show\n",
    "from bokeh.models.widgets import Slider\n",
    "\n",
    "# output_file(\"slider.html\")\n",
    "years = sorted(df_master['calendar_year'].unique())\n",
    "slider = Slider(start=years[0], end=years[-1], value=years[0], step=1, title=\"Year\")\n",
    "\n",
    "show(slider)"
   ]
  },
  {
   "cell_type": "code",
   "execution_count": null,
   "metadata": {},
   "outputs": [],
   "source": []
  },
  {
   "cell_type": "code",
   "execution_count": null,
   "metadata": {},
   "outputs": [],
   "source": []
  },
  {
   "cell_type": "code",
   "execution_count": null,
   "metadata": {},
   "outputs": [],
   "source": [
    "df_master.hvplot.bar('master_department_agency_desc', 'master_ytd_earnings',\n",
    "               xlabel='Department Agency', ylabel='Earnings',\n",
    "              width=1600, height=800, rot=90, yformatter=NumeralTickFormatter(),\n",
    "              title='New Jersey Payroll Grouped by Department Agency',\n",
    "                    groupby='calendar_year')"
   ]
  },
  {
   "cell_type": "code",
   "execution_count": null,
   "metadata": {},
   "outputs": [],
   "source": [
    "columns = ['calendar_year',\n",
    " 'master_department_agency_desc',\n",
    " 'master_section_desc',\n",
    " 'master_title_desc',\n",
    " 'employee_relations_group',\n",
    " 'compensation_method',\n",
    " 'master_ytd_earnings'\n",
    "]"
   ]
  },
  {
   "cell_type": "code",
   "execution_count": null,
   "metadata": {},
   "outputs": [],
   "source": [
    "from sklearn.ensemble import RandomForestRegressor\n",
    "from sklearn.model_selection import train_test_split\n",
    "from sklearn.preprocessing import LabelEncoder\n",
    "\n",
    "le = LabelEncoder()\n",
    "data = df_master[columns]\n",
    "\n",
    "object_col = data.select_dtypes(include='object').columns\n",
    "for i in object_col:\n",
    "    data[i+'enc'] = le.fit_transform(data[i])\n",
    "    data[i+'enc'] = data[i+'enc'].astype('category')\n",
    "    \n",
    "data.drop(object_col, axis=1, inplace=True)\n",
    "\n",
    "\n",
    "x = data.drop('master_ytd_earnings', axis=1)\n",
    "y = data['master_ytd_earnings']\n",
    "\n",
    "x_train, x_test, y_train, y_test = train_test_split(x, y, test_size=0.2, random_state=11)\n",
    "\n",
    "rf = RandomForestRegressor()\n",
    "rf.fit(x_train, y_train)"
   ]
  },
  {
   "cell_type": "code",
   "execution_count": null,
   "metadata": {},
   "outputs": [],
   "source": [
    "pred = rf.predict(x_test)"
   ]
  },
  {
   "cell_type": "code",
   "execution_count": null,
   "metadata": {},
   "outputs": [],
   "source": [
    "len(pred)"
   ]
  },
  {
   "cell_type": "code",
   "execution_count": null,
   "metadata": {},
   "outputs": [],
   "source": [
    "len(y_test)"
   ]
  },
  {
   "cell_type": "code",
   "execution_count": null,
   "metadata": {},
   "outputs": [],
   "source": [
    "rf.score(x_test, y_test)"
   ]
  },
  {
   "cell_type": "code",
   "execution_count": null,
   "metadata": {},
   "outputs": [],
   "source": [
    "rf.feature_importances_"
   ]
  },
  {
   "cell_type": "code",
   "execution_count": null,
   "metadata": {},
   "outputs": [],
   "source": [
    "for i, v in zip(rf.feature_importances_, x.columns):\n",
    "    print(v, i)"
   ]
  },
  {
   "cell_type": "code",
   "execution_count": null,
   "metadata": {},
   "outputs": [],
   "source": [
    "master_list = ['calendar_year', 'payroll_id', 'salary_hourly_rate',\n",
    " 'master_ytd_regular_pay',\n",
    " 'master_ytd_overtime_payments',\n",
    " 'master_ytd_all_other_payments',\n",
    " 'master_ytd_earnings']\n",
    "df_master2 = df_master[master_list]\n",
    "df_detail2 = df_detail.drop(columns=master_list[2:], axis=1)"
   ]
  },
  {
   "cell_type": "code",
   "execution_count": null,
   "metadata": {},
   "outputs": [],
   "source": [
    "df3 = df_master[df['calendar_year']==2018].groupby('master_department_agency_desc').sum().sort_values(by='master_ytd_earnings', ascending=False)"
   ]
  },
  {
   "cell_type": "code",
   "execution_count": null,
   "metadata": {},
   "outputs": [],
   "source": [
    "df3.head()"
   ]
  },
  {
   "cell_type": "code",
   "execution_count": null,
   "metadata": {},
   "outputs": [],
   "source": [
    "help(df_master.)"
   ]
  },
  {
   "cell_type": "code",
   "execution_count": null,
   "metadata": {},
   "outputs": [],
   "source": [
    "df3.hvplot.bar('master_department_agency_desc', 'master_ytd_earnings',\n",
    "               xlabel='Department Agency', ylabel='Earnings',\n",
    "              width=1600, height=800, rot=90, yformatter=NumeralTickFormatter(),\n",
    "              title='New Jersey Payroll Grouped by Department Agency')"
   ]
  },
  {
   "cell_type": "code",
   "execution_count": null,
   "metadata": {},
   "outputs": [],
   "source": [
    "df3 = df_master[df['calendar_year']==2018].groupby('master_department_agency_desc').sum().sort_values(by='master_ytd_earnings', ascending=False)\n",
    "fig, ax = plt.subplots(figsize=(32,20))\n",
    "fig = sns.barplot(df3.index, df3['master_ytd_earnings'])\n",
    "plt.xticks(rotation='vertical')\n",
    "plt.title('New Jersey Payroll Grouped by Department Agency')\n",
    "plt.tight_layout()\n",
    "plt.ylabel('Earnings')\n",
    "plt.xlabel('Department Agency')\n",
    "ax.get_yaxis().set_major_formatter(\n",
    "    ticker.FuncFormatter(lambda x, p: format(int(x), ',')))\n",
    "fig.get_figure().savefig('output.png')\n",
    "plt.show()"
   ]
  },
  {
   "cell_type": "code",
   "execution_count": null,
   "metadata": {},
   "outputs": [],
   "source": [
    "sorted(df_master['calendar_year'].unique())"
   ]
  },
  {
   "cell_type": "code",
   "execution_count": null,
   "metadata": {},
   "outputs": [],
   "source": [
    "df_by_years = df_master[['calendar_year', 'calendar_quarter', 'as_of_date', 'payroll_id',\n",
    "       'last_name', 'first_name', 'middle_initial', 'full_name',\n",
    "       'salary_hourly_rate', 'master_department_agency_desc',\n",
    "       'master_section_desc', 'master_title_desc', 'employee_relations_group',\n",
    "       'compensation_method', 'master_ytd_regular_pay',\n",
    "       'master_ytd_overtime_payments', 'master_ytd_all_other_payments',\n",
    "       'master_ytd_earnings']].sort_values(by='calendar_year', ascending=True)"
   ]
  },
  {
   "cell_type": "code",
   "execution_count": null,
   "metadata": {},
   "outputs": [],
   "source": [
    "max_pct_change = 1000 # np.inf\n",
    "min_ytd_earnings = 20000\n",
    "df2 = df_by_years[df_by_years['master_ytd_earnings'] > 20000].set_index(['calendar_year', 'payroll_id'])['master_ytd_earnings'].unstack(['payroll_id'])\n",
    "df3 = df2.pct_change().max()\n",
    "df4 = df3 < max_pct_change\n",
    "df3[df4].sort_values(ascending=False)"
   ]
  },
  {
   "cell_type": "code",
   "execution_count": null,
   "metadata": {},
   "outputs": [],
   "source": [
    "payroll_id = 160585\n",
    "df_master[df_master['payroll_id']==payroll_id].sort_values(by='calendar_year')"
   ]
  },
  {
   "cell_type": "code",
   "execution_count": null,
   "metadata": {},
   "outputs": [],
   "source": [
    "df_master.groupby('master_department_agency_desc')['master_ytd_earnings'].describe()"
   ]
  },
  {
   "cell_type": "code",
   "execution_count": null,
   "metadata": {},
   "outputs": [],
   "source": [
    "df_master[(df_master['master_department_agency_desc']=='none')].sort_values(by=\"master_ytd_earnings\",ascending=False)"
   ]
  },
  {
   "cell_type": "code",
   "execution_count": null,
   "metadata": {},
   "outputs": [],
   "source": [
    "df_unit_q = df_master[df_master['employee_relations_group'].str.contains('unit q')]"
   ]
  },
  {
   "cell_type": "code",
   "execution_count": null,
   "metadata": {},
   "outputs": [],
   "source": [
    "retired_pension = pd.read_csv('raw_data/YourMoney_Retired_Pension_Members.csv')\n",
    "retired_pension = janitor.clean_names(retired_pension)\n"
   ]
  },
  {
   "cell_type": "code",
   "execution_count": null,
   "metadata": {},
   "outputs": [],
   "source": [
    "retired_pension.head(2).T"
   ]
  },
  {
   "cell_type": "code",
   "execution_count": null,
   "metadata": {},
   "outputs": [],
   "source": [
    "year=2018\n",
    "ret_still_salary = retired_pension.merge(df_unit_q, left_on='member_full_name', right_on='full_name')\n",
    "ret_still_salary[(ret_still_salary['last_standard_allowance_yearmo'].str.contains('2018')) & (ret_still_salary['calendar_year']==year)]"
   ]
  },
  {
   "cell_type": "code",
   "execution_count": null,
   "metadata": {},
   "outputs": [],
   "source": [
    "ret_still_salary[ret_still_salary['calendar_year']==year].head()"
   ]
  },
  {
   "cell_type": "code",
   "execution_count": null,
   "metadata": {},
   "outputs": [],
   "source": [
    "df_master2.head().T"
   ]
  },
  {
   "cell_type": "code",
   "execution_count": null,
   "metadata": {},
   "outputs": [],
   "source": [
    "df_master3 = df_master2.set_index(['calendar_year', 'payroll_id'])\n",
    "master_payroll_year = df_master3['master_ytd_earnings'].unstack()\n",
    "top_earners = master_payroll_year.sum().sort_values(ascending=False)"
   ]
  },
  {
   "cell_type": "code",
   "execution_count": null,
   "metadata": {},
   "outputs": [],
   "source": [
    "name_list = df[['payroll_id', 'last_name', 'first_name', 'middle_initial', 'full_name']].drop_duplicates()"
   ]
  },
  {
   "cell_type": "code",
   "execution_count": null,
   "metadata": {},
   "outputs": [],
   "source": [
    "payroll_id = 91928\n",
    "name_list[name_list['payroll_id']==payroll_id]"
   ]
  },
  {
   "cell_type": "code",
   "execution_count": null,
   "metadata": {},
   "outputs": [],
   "source": [
    "a = df_master[df_master['calendar_year']==2018].sort_values(by='master_ytd_earnings', ascending=False).groupby('master_department_agency_desc').agg({'master_ytd_earnings': 'sum'}).sort_values(by='master_ytd_earnings', ascending=False)\n",
    "fig, ax = plt.subplots(figsize=(24,15))\n",
    "fig = sns.barplot(a.index, a['master_ytd_earnings'])\n",
    "plt.xticks(rotation='vertical')\n",
    "plt.title('New Jersey Payroll Grouped by Department Agency (Top 1000 Earners from 2018)')\n",
    "plt.tight_layout()\n",
    "plt.ylabel('Earnings')\n",
    "plt.xlabel('Department Agency')\n",
    "ax.get_yaxis().set_major_formatter(\n",
    "    ticker.FuncFormatter(lambda x, p: format(int(x), ',')))\n",
    "fig.get_figure().savefig('Top1000_2018only.png')\n",
    "plt.show()"
   ]
  },
  {
   "cell_type": "code",
   "execution_count": null,
   "metadata": {},
   "outputs": [],
   "source": [
    "init_notebook_mode(connected=True)\n",
    "data = [go.Bar(\n",
    "            x=a.index,\n",
    "            y=a['master_ytd_earnings']\n",
    "    )]\n",
    "layout = go.Layout(\n",
    "    autosize=False,\n",
    "    width=2000,\n",
    "    height=1200,\n",
    "    xaxis=dict(\n",
    "        title = ''.join(['Department Agency'] + [u'\\xa0'] * 20 + [u'\\n\\xa0'] * 10),\n",
    "        tickangle=-45,\n",
    "        tickprefix= u'\\xa0' * 30 + '\\n' * 10,\n",
    "        automargin=True\n",
    "    ),\n",
    "    yaxis=dict(\n",
    "        title = 'Net Earnings',\n",
    "        tickprefix= ' ' * 10,\n",
    "        automargin=True\n",
    "    ),\n",
    "    margin=go.layout.Margin(\n",
    "        l=100,\n",
    "        r=50,\n",
    "        b=250,\n",
    "        t=50,\n",
    "        pad=4\n",
    "    ),\n",
    "    barmode='group',\n",
    ")\n",
    "fig = go.Figure(data=data, layout=layout)\n",
    "iplot(fig)"
   ]
  },
  {
   "cell_type": "code",
   "execution_count": null,
   "metadata": {},
   "outputs": [],
   "source": [
    "# Check distribution of compensation methods\n",
    "df_master['compensation_method'].unique()"
   ]
  },
  {
   "cell_type": "code",
   "execution_count": null,
   "metadata": {},
   "outputs": [],
   "source": [
    "compensation_method_cnt = df_master.groupby('compensation_method').agg({'payroll_id': ['count', ('ratio', lambda x: x.count() / len(df_master))]})"
   ]
  },
  {
   "cell_type": "code",
   "execution_count": null,
   "metadata": {},
   "outputs": [],
   "source": [
    "fig, ax = plt.subplots(figsize=(8,6))\n",
    "fig = sns.barplot(compensation_method_cnt['payroll_id'].index, compensation_method_cnt['payroll_id']['ratio'])\n",
    "plt.xticks(rotation='vertical')\n",
    "plt.title('Compensation Method Ratio')\n",
    "plt.tight_layout()\n",
    "plt.ylabel('Percentage')\n",
    "plt.xlabel('Compenstation Method')\n",
    "fig.get_figure().savefig('compensation_method_ratio.png')\n",
    "plt.show()"
   ]
  },
  {
   "cell_type": "code",
   "execution_count": null,
   "metadata": {},
   "outputs": [],
   "source": [
    "b = df_master[df_master['calendar_year']==2018].sort_values(by='master_ytd_earnings', ascending=False).groupby(['master_department_agency_desc', 'compensation_method']).agg({'master_ytd_earnings': 'sum'}).sort_values(by='master_ytd_earnings', ascending=False)"
   ]
  },
  {
   "cell_type": "code",
   "execution_count": null,
   "metadata": {},
   "outputs": [],
   "source": [
    "c = b.unstack()\n",
    "c['master_ytd_earnings'].fillna(0, inplace=True)\n",
    "d = c.unstack().unstack().reset_index().T[1:]\n",
    "d = d.rename(columns=d.iloc[0]).drop(d.index[0])"
   ]
  },
  {
   "cell_type": "code",
   "execution_count": null,
   "metadata": {},
   "outputs": [],
   "source": [
    "data = []\n",
    "for i in d.columns:\n",
    "    data.append(go.Bar(\n",
    "        x = d.index,\n",
    "        y = d[i],\n",
    "        name = i.lower()\n",
    "    ))\n",
    "\n",
    "layout = go.Layout(\n",
    "    autosize=False,\n",
    "    width=1000,\n",
    "    height=600,\n",
    "    xaxis=dict(\n",
    "        title = ''.join(['Department Agency'] + [u'\\xa0'] * 20 + [u'\\n\\xa0'] * 10),\n",
    "        tickangle=-45,\n",
    "        tickprefix= u'\\xa0' * 20 + '\\n' * 10,\n",
    "        automargin=True\n",
    "    ),\n",
    "    yaxis=dict(\n",
    "        title = 'Net Earnings',\n",
    "        tickprefix= ' ' * 10,\n",
    "        automargin=True\n",
    "    ),\n",
    "    margin=go.layout.Margin(\n",
    "        l=100,\n",
    "        r=50,\n",
    "        b=250,\n",
    "        t=50,\n",
    "        pad=4\n",
    "    ),\n",
    "    barmode='stack',\n",
    ")\n",
    "fig = go.Figure(data=data, layout=layout)\n",
    "iplot(fig)"
   ]
  },
  {
   "cell_type": "code",
   "execution_count": null,
   "metadata": {},
   "outputs": [],
   "source": [
    "relative_compensation_method_2018 = d.copy(deep=True)\n",
    "for i in relative_compensation_method_2018.columns:\n",
    "    relative_compensation_method_2018[i] = pd.to_numeric(relative_compensation_method_2018[i])\n",
    "relative_compensation_method_2018['total'] = relative_compensation_method_2018.sum(axis=1)"
   ]
  },
  {
   "cell_type": "code",
   "execution_count": null,
   "metadata": {},
   "outputs": [],
   "source": [
    "init_notebook_mode(connected=True)\n",
    "\n",
    "data = []\n",
    "\n",
    "for i in relative_compensation_method_2018.columns:\n",
    "    if i != 'total':\n",
    "        data.append(go.Bar(\n",
    "            x = relative_compensation_method_2018.index,\n",
    "            y = relative_compensation_method_2018[i] / relative_compensation_method_2018['total'],\n",
    "            name = i.lower()\n",
    "        ))\n",
    "\n",
    "layout = go.Layout(\n",
    "    autosize=False,\n",
    "    width=1000,\n",
    "    height=600,\n",
    "    title='100% ',\n",
    "    xaxis=dict(\n",
    "        title = ''.join(['Department Agency'] + [u'\\xa0'] * 20 + [u'\\n\\xa0'] * 10),\n",
    "        tickangle=-45,\n",
    "        tickprefix= u'\\xa0' * 20 + '\\n' * 10,\n",
    "        automargin=True\n",
    "    ),\n",
    "    yaxis=dict(\n",
    "        title = 'Net Earnings Ratio',\n",
    "        tickprefix= ' ' * 10,\n",
    "        automargin=True\n",
    "    ),\n",
    "    margin=go.layout.Margin(\n",
    "        l=100,\n",
    "        r=50,\n",
    "        b=250,\n",
    "        t=50,\n",
    "        pad=4\n",
    "    ),\n",
    "    barmode='stack',\n",
    ")\n",
    "fig = go.Figure(data=data, layout=layout)\n",
    "iplot(fig, filename='')"
   ]
  },
  {
   "cell_type": "markdown",
   "metadata": {},
   "source": [
    "## Use Social Security Administration Popular Baby Names by Year to try to find names with gender"
   ]
  },
  {
   "cell_type": "code",
   "execution_count": null,
   "metadata": {},
   "outputs": [],
   "source": [
    "all_names = pd.read_csv('names/allnames.txt', names=['name', 'gender', 'count'])\n",
    "unique_names = all_names.drop_duplicates(subset='name')\n",
    "unique_names['name'] = unique_names['name'].str.lower()"
   ]
  },
  {
   "cell_type": "code",
   "execution_count": null,
   "metadata": {},
   "outputs": [],
   "source": [
    "# Left join df_master with unique_names. We can see which names are not matched with unique names database\n",
    "df_names_merged = df_master.merge(unique_names, left_on='first_name', right_on='name', how='left')"
   ]
  },
  {
   "cell_type": "code",
   "execution_count": null,
   "metadata": {},
   "outputs": [],
   "source": [
    "print(df_names_merged.shape, df_master.shape)"
   ]
  },
  {
   "cell_type": "code",
   "execution_count": null,
   "metadata": {},
   "outputs": [],
   "source": [
    "df_master_no_name_match = df_names_merged[df_names_merged['name'].isna()]\n",
    "print(df_master_no_name_match.shape)\n",
    "df_master_no_name_match_single_first_name = df_master_no_name_match[df_master_no_name_match['first_name'].str.len() > 1]\n",
    "print(df_master_no_name_match_single_first_name.shape)"
   ]
  },
  {
   "cell_type": "markdown",
   "metadata": {},
   "source": [
    "51,955 entries do not have a name that fits with the unique names.\n",
    "10,670 entries only use a single initial for the first name."
   ]
  },
  {
   "cell_type": "code",
   "execution_count": null,
   "metadata": {},
   "outputs": [],
   "source": [
    "import detector"
   ]
  },
  {
   "cell_type": "code",
   "execution_count": null,
   "metadata": {},
   "outputs": [],
   "source": [
    "d = detector.Detector()"
   ]
  },
  {
   "cell_type": "code",
   "execution_count": null,
   "metadata": {},
   "outputs": [],
   "source": []
  }
 ],
 "metadata": {
  "kernelspec": {
   "display_name": "vaex",
   "language": "python",
   "name": "vaex"
  },
  "language_info": {
   "codemirror_mode": {
    "name": "ipython",
    "version": 3
   },
   "file_extension": ".py",
   "mimetype": "text/x-python",
   "name": "python",
   "nbconvert_exporter": "python",
   "pygments_lexer": "ipython3",
   "version": "3.7.3"
  }
 },
 "nbformat": 4,
 "nbformat_minor": 4
}
