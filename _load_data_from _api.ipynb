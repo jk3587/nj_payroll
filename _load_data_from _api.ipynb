{
 "cells": [
  {
   "cell_type": "code",
   "execution_count": 5,
   "metadata": {},
   "outputs": [],
   "source": [
    "import pandas as pd\n",
    "from sodapy import Socrata\n",
    "myapptoken = '###APITOKENHERE###'\n",
    "client = Socrata(\"data.nj.gov\", myapptoken)\n",
    "results = client.get(\"swjq-h2b6\", limit=2000000)\n",
    "df = pd.DataFrame.from_records(results)"
   ]
  },
  {
   "cell_type": "code",
   "execution_count": 7,
   "metadata": {},
   "outputs": [
    {
     "data": {
      "text/plain": [
       "as_of_date                       object\n",
       "calendar_quarter                 object\n",
       "calendar_year                    object\n",
       "cash_in_lieu_maintenance         object\n",
       "clothing_uniform_payments        object\n",
       "compensation_method              object\n",
       "employee_relations_group         object\n",
       "first_name                       object\n",
       "full_name                        object\n",
       "last_name                        object\n",
       "legislator_or_back_pay           object\n",
       "lump_sum_pay                     object\n",
       "master_department_agency_desc    object\n",
       "master_section_desc              object\n",
       "master_title_desc                object\n",
       "master_ytd_all_other_payments    object\n",
       "master_ytd_earnings              object\n",
       "master_ytd_overtime_payments     object\n",
       "master_ytd_regular_pay           object\n",
       "middle_initial                   object\n",
       "one_time_payments                object\n",
       "overtime_payments                object\n",
       "paid_department_agency_desc      object\n",
       "paid_section_desc                object\n",
       "payroll_id                       object\n",
       "record_type                      object\n",
       "regular_pay                      object\n",
       "retroactive_pay                  object\n",
       "salary_hourly_rate               object\n",
       "supplemental_pay                 object\n",
       "ytd_earnings                     object\n",
       "dtype: object"
      ]
     },
     "execution_count": 7,
     "metadata": {},
     "output_type": "execute_result"
    }
   ],
   "source": [
    "df.dtypes"
   ]
  },
  {
   "cell_type": "code",
   "execution_count": null,
   "metadata": {},
   "outputs": [],
   "source": []
  }
 ],
 "metadata": {
  "kernelspec": {
   "display_name": "Python 3",
   "language": "python",
   "name": "python3"
  },
  "language_info": {
   "codemirror_mode": {
    "name": "ipython",
    "version": 3
   },
   "file_extension": ".py",
   "mimetype": "text/x-python",
   "name": "python",
   "nbconvert_exporter": "python",
   "pygments_lexer": "ipython3",
   "version": "3.6.2"
  }
 },
 "nbformat": 4,
 "nbformat_minor": 2
}
