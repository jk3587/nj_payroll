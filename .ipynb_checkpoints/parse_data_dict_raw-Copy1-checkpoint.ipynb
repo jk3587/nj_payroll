{
 "cells": [
  {
   "cell_type": "markdown",
   "metadata": {},
   "source": [
    "# Parse raw data dictionary to json"
   ]
  },
  {
   "cell_type": "code",
   "execution_count": 1,
   "metadata": {},
   "outputs": [],
   "source": [
    "with open('data_dict_raw.csv', 'r') as f:\n",
    "    lines = f.read().split('\\n')"
   ]
  },
  {
   "cell_type": "code",
   "execution_count": 11,
   "metadata": {},
   "outputs": [],
   "source": [
    "start = 0\n",
    "interval = 7\n",
    "end = start + interval\n",
    "data_dict = {}\n",
    "while end < len(lines):\n",
    "    temp = lines[start:end]\n",
    "    data_dict[temp[0]] = {'Data Type': temp[2], 'Description': temp[1]}\n",
    "    start += interval\n",
    "    end += interval"
   ]
  },
  {
   "cell_type": "code",
   "execution_count": 12,
   "metadata": {},
   "outputs": [
    {
     "data": {
      "text/plain": [
       "{'CALENDAR_YEAR': {'Data Type': 'Number',\n",
       "  'Description': 'Four digit year representing the twelve month period starting with January and ending with December. Indicates the calendar year in which payments were actually made to the employee. Calendar year and calendar quarter together represent the end of the reporting period.'},\n",
       " 'CALENDAR_QUARTER': {'Data Type': 'Number',\n",
       "  'Description': '\"Payroll data will be published quarterly. The single digit calendar quarter represents the end of the period that the data spans and not the actual quarter that the payment was made. For example, when calendar quarter is set to ?2?, the data would include payments made from January through June for the given calendar year. Calendar year and calendar quarter together represent the end of the reporting period.\"'},\n",
       " 'AS_OF_DATE': {'Data Type': 'Date & Time',\n",
       "  'Description': 'The last day of the quarter of data represented in this dataset.'},\n",
       " 'PAYROLL_ID': {'Data Type': 'Plain Text',\n",
       "  'Description': 'Randomly generated number that helps pair a master record with its detail record(s).'},\n",
       " 'LAST_NAME': {'Data Type': 'Plain Text',\n",
       "  'Description': 'Last name of the employee at the end of the reporting period.'},\n",
       " 'FIRST_NAME': {'Data Type': 'Plain Text',\n",
       "  'Description': 'First name of the employee at the end of the reporting period. The literal ?none? has been used when there is no first name on record.'},\n",
       " 'MIDDLE_INITIAL': {'Data Type': 'Plain Text',\n",
       "  'Description': 'Middle initial of the employee at the end of the reporting period.'},\n",
       " 'FULL_NAME': {'Data Type': 'Plain Text',\n",
       "  'Description': 'Full name of the employee at the end of the reporting period.'},\n",
       " 'SALARY_HOURLY_RATE': {'Data Type': 'Number',\n",
       "  'Description': '\"Depending on the value in the column Compensation Method, the value in this column is either the annual salary, hourly rate or a daily rate for the employee at the end of the reporting period. When the compensation method is ?Part Time? the salary listed has been adjusted to represent the part time percentage.\"'},\n",
       " 'MASTER_DEPARTMENT_AGENCY_DESC': {'Data Type': 'Plain Text',\n",
       "  'Description': 'Discrete organization within the State of New Jersey associated with the employee at the end of the reporting period.'},\n",
       " 'MASTER_SECTION_DESC': {'Data Type': 'Plain Text',\n",
       "  'Description': 'The area of the department to which the employee is assigned at the end of the reporting period.'},\n",
       " 'MASTER_TITLE_DESC': {'Data Type': 'Plain Text',\n",
       "  'Description': '\"The title is a descriptive name that identifies a position or group of positions with similar duties, responsibilities and qualifications. This is the title associated with the employee at the end of the reporting period.\"'},\n",
       " 'EMPLOYEE_RELATIONS_GROUP': {'Data Type': 'Plain Text',\n",
       "  'Description': 'Classification indicating whether employee is aligned or not aligned with a union and what type of work that unit performs. This grouping determines what salary and benefits the employee receives. This is the employee relations group associated with the employee at the end of the reporting period.'},\n",
       " 'COMPENSATION_METHOD': {'Data Type': 'Plain Text',\n",
       "  'Description': 'Identifies the basis by which an employee?s regular pay will be calculated. This is the compensation method associated with the employee at the end of the reporting period.'},\n",
       " 'MASTER_YTD_REGULAR_PAY': {'Data Type': 'Number',\n",
       "  'Description': 'The sum of wages for one or more departments/agencies that are earned by an employee for working a predetermined number of hours or days in a week as dictated by the employee?s title during the reporting period.'},\n",
       " 'MASTER_YTD_OVERTIME_PAYMENTS': {'Data Type': 'Number',\n",
       "  'Description': 'The sum of overtime wages for one or more departments/agencies by an employee during the reporting period.'},\n",
       " 'MASTER_YTD_ALL_OTHER_PAYMENTS': {'Data Type': 'Number',\n",
       "  'Description': 'The sum of wages for one or more departments/agencies that are earned by an employee not listed under regular pay or overtime payments during the reporting period.'},\n",
       " 'MASTER_YTD_EARNINGS': {'Data Type': 'Number',\n",
       "  'Description': '\"Sum of all payments for the employee during the reporting period; that is, the sum of the previous three columns.\"'},\n",
       " 'PAID_DEPARTMENT_AGENCY_DESC': {'Data Type': 'Plain Text',\n",
       "  'Description': 'Discrete organization within the State of New Jersey that made payments to the employee.'},\n",
       " 'PAID_SECTION_DESC': {'Data Type': 'Plain Text',\n",
       "  'Description': 'The area of the paid department that made payment to the employee.'},\n",
       " 'REGULAR_PAY': {'Data Type': 'Number',\n",
       "  'Description': 'Wages earned by an employee for working a predetermined number of hours or days in a week as dictated by the employee?s title.'},\n",
       " 'SUPPLEMENTAL_PAY': {'Data Type': 'Number',\n",
       "  'Description': '\"Wages paid to an employee that were not included in regular pay. In some existing state contracts, supplemental payments for overtime are required. Includes lump sum payments of unused vacation leave, compensatory time, and personal leave bank time.\"'},\n",
       " 'ONE_TIME_PAYMENTS': {'Data Type': 'Number',\n",
       "  'Description': 'Wages paid as bonus and one-time payments or shift differential for employees working night or evening shifts.'},\n",
       " 'LEGISLATOR_OR_BACK_PAY': {'Data Type': 'Number',\n",
       "  'Description': 'Wages paid to an employee as determined by the Merit System Board or other legal decision. Also used for Legislators and Legislative Aides pay.'},\n",
       " 'OVERTIME_PAYMENTS': {'Data Type': 'Number',\n",
       "  'Description': 'Overtime wages.'},\n",
       " 'CLOTHING_UNIFORM_PAYMENTS': {'Data Type': 'Number',\n",
       "  'Description': 'Wages paid to eligible employees for clothing and uniform purchase and maintenance.'},\n",
       " 'RETROACTIVE_PAY': {'Data Type': 'Number',\n",
       "  'Description': 'Wages paid to an employee for a salary adjustment with a prior effective date.'},\n",
       " 'LUMP_SUM_PAY': {'Data Type': 'Number',\n",
       "  'Description': '\"Wages paid to an employee upon retirement for any unused sick leave accrued. The maximum payout is $15,000 per employee.\"'},\n",
       " 'CASH_IN_LIEU_MAINTENANCE': {'Data Type': 'Number',\n",
       "  'Description': 'Contractual biweekly payment for State Police Employee Relations Groups.'},\n",
       " 'YTD_EARNINGS': {'Data Type': 'Number',\n",
       "  'Description': 'Sum of all payments for the employee by paid_department_agency_desc and paid_section_desc during the reporting period.'},\n",
       " 'RECORD_TYPE': {'Data Type': 'Plain Text',\n",
       "  'Description': 'Identifies master or detail record for an employee.'}}"
      ]
     },
     "execution_count": 12,
     "metadata": {},
     "output_type": "execute_result"
    }
   ],
   "source": [
    "data_dict"
   ]
  },
  {
   "cell_type": "code",
   "execution_count": 15,
   "metadata": {},
   "outputs": [],
   "source": [
    "import json\n",
    "with open('data_dict.json', 'w') as f:\n",
    "    json.dump(data_dict, f)"
   ]
  },
  {
   "cell_type": "code",
   "execution_count": null,
   "metadata": {},
   "outputs": [],
   "source": []
  }
 ],
 "metadata": {
  "kernelspec": {
   "display_name": "Python 3",
   "language": "python",
   "name": "python3"
  },
  "language_info": {
   "codemirror_mode": {
    "name": "ipython",
    "version": 3
   },
   "file_extension": ".py",
   "mimetype": "text/x-python",
   "name": "python",
   "nbconvert_exporter": "python",
   "pygments_lexer": "ipython3",
   "version": "3.6.2"
  }
 },
 "nbformat": 4,
 "nbformat_minor": 2
}
